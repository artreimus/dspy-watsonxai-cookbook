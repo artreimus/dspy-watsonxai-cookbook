{
 "cells": [
  {
   "cell_type": "markdown",
   "metadata": {},
   "source": [
    "## Integrating Watsonx with DSPy\n",
    "This notebook demonstrates the basic steps required to integrate **IBM Watsonx** with **DSPy**, a declarative library for programmatic prompting and LLM pipelines."
   ]
  },
  {
   "cell_type": "markdown",
   "metadata": {},
   "source": [
    "### 1. Install Required Libraries\n",
    "Ensure that all required libraries are installed for Watsonx and DSPy to function correctly.\n"
   ]
  },
  {
   "cell_type": "code",
   "execution_count": 16,
   "metadata": {},
   "outputs": [
    {
     "name": "stdout",
     "output_type": "stream",
     "text": [
      "\n",
      "\u001b[1m[\u001b[0m\u001b[34;49mnotice\u001b[0m\u001b[1;39;49m]\u001b[0m\u001b[39;49m A new release of pip is available: \u001b[0m\u001b[31;49m23.0.1\u001b[0m\u001b[39;49m -> \u001b[0m\u001b[32;49m24.3.1\u001b[0m\n",
      "\u001b[1m[\u001b[0m\u001b[34;49mnotice\u001b[0m\u001b[1;39;49m]\u001b[0m\u001b[39;49m To update, run: \u001b[0m\u001b[32;49mpip install --upgrade pip\u001b[0m\n",
      "Note: you may need to restart the kernel to use updated packages.\n"
     ]
    }
   ],
   "source": [
    "%pip install dspy-ai python-dotenv -q"
   ]
  },
  {
   "cell_type": "markdown",
   "metadata": {},
   "source": [
    "### 2. Setup Environment\n",
    "Here, we configure the environment, including setting up Watsonx credentials and initializing DSPy."
   ]
  },
  {
   "cell_type": "code",
   "execution_count": 17,
   "metadata": {},
   "outputs": [],
   "source": [
    "import dspy\n",
    "import os\n",
    "from dotenv import load_dotenv\n",
    "\n",
    "# Load environment variables\n",
    "load_dotenv()\n",
    "\n",
    "# Configure WatsonX credentials\n",
    "WATSONX_URL = os.getenv(\"WATSONX_URL\")\n",
    "WATSONX_APIKEY = os.getenv(\"WATSONX_APIKEY\")\n",
    "WATSONX_PROJECT_ID = os.getenv(\"WATSONX_PROJECT_ID\")\n",
    "\n",
    "os.environ[\"WATSONX_URL\"] = WATSONX_URL\n",
    "os.environ[\"WATSONX_APIKEY\"] = WATSONX_APIKEY\n",
    "os.environ[\"WATSONX_PROJECT_ID\"] = WATSONX_PROJECT_ID\n"
   ]
  },
  {
   "cell_type": "markdown",
   "metadata": {},
   "source": [
    "### 3. Define and Test Watsonx Integration\n",
    "This section tests the basic integration between Watsonx and DSPy to ensure connectivity and execution."
   ]
  },
  {
   "cell_type": "code",
   "execution_count": 9,
   "metadata": {},
   "outputs": [],
   "source": [
    "lm = dspy.LM(\n",
    "    \"watsonx/meta-llama/llama-3-8b-instruct\",\n",
    "    project_id=WATSONX_PROJECT_ID,\n",
    ")\n",
    "\n",
    "dspy.configure(lm=lm, trace=[], temperature=0.7, experimental=True)"
   ]
  },
  {
   "cell_type": "code",
   "execution_count": 10,
   "metadata": {},
   "outputs": [],
   "source": [
    "colbertv2_wiki17_abstracts = dspy.ColBERTv2(\n",
    "    url=\"http://20.102.90.50:2017/wiki17_abstracts\"\n",
    ")\n",
    "dspy.configure(rm=colbertv2_wiki17_abstracts)"
   ]
  },
  {
   "cell_type": "code",
   "execution_count": 11,
   "metadata": {},
   "outputs": [],
   "source": [
    "class BasicQA(dspy.Signature):\n",
    "    \"\"\"Answer questions with short factoid answers.\"\"\"\n",
    "\n",
    "    question = dspy.InputField()\n",
    "    answer = dspy.OutputField(desc=\"often between 1 and 5 words\")"
   ]
  },
  {
   "cell_type": "markdown",
   "metadata": {},
   "source": [
    "### 4. Run DSPy with Watsonx Backend\n",
    "Finally, we use DSPy capabilities with Watsonx as the backend, showing how LLM tasks can be executed programmatically."
   ]
  },
  {
   "cell_type": "code",
   "execution_count": 12,
   "metadata": {},
   "outputs": [
    {
     "name": "stdout",
     "output_type": "stream",
     "text": [
      "Answer: Turkey, Orhan Pamuk\n",
      "Predicted Answer: The winner was the United Kingdom, and the name was Kazuo Ishiguro.\n"
     ]
    }
   ],
   "source": [
    "# Define the predictor.\n",
    "generate_answer = dspy.Predict(BasicQA)\n",
    "\n",
    "# Call the predictor on a particular input.\n",
    "test_question = \"What country was the winner of the Nobel Prize in Literature in 2006 from and what was their name?\"\n",
    "\n",
    "pred = generate_answer(question=test_question)\n",
    "\n",
    "if pred == None:\n",
    "    print(\" no answer \")\n",
    "else:\n",
    "    # Print the input and the prediction.\n",
    "    print(f\"Answer: Turkey, Orhan Pamuk\")\n",
    "    print(f\"Predicted Answer: {pred.answer}\")"
   ]
  }
 ],
 "metadata": {
  "kernelspec": {
   "display_name": "venv",
   "language": "python",
   "name": "python3"
  },
  "language_info": {
   "codemirror_mode": {
    "name": "ipython",
    "version": 3
   },
   "file_extension": ".py",
   "mimetype": "text/x-python",
   "name": "python",
   "nbconvert_exporter": "python",
   "pygments_lexer": "ipython3",
   "version": "3.10.12"
  }
 },
 "nbformat": 4,
 "nbformat_minor": 2
}
